{
  "nbformat": 4,
  "nbformat_minor": 0,
  "metadata": {
    "colab": {
      "provenance": [],
      "authorship_tag": "ABX9TyOm6hs9C3zZdNtIOJpy+xKK",
      "include_colab_link": true
    },
    "kernelspec": {
      "name": "python3",
      "display_name": "Python 3"
    },
    "language_info": {
      "name": "python"
    }
  },
  "cells": [
    {
      "cell_type": "markdown",
      "metadata": {
        "id": "view-in-github",
        "colab_type": "text"
      },
      "source": [
        "<a href=\"https://colab.research.google.com/github/N4877/clean-data/blob/main/Condictions_if_elif(Elify).ipynb\" target=\"_parent\"><img src=\"https://colab.research.google.com/assets/colab-badge.svg\" alt=\"Open In Colab\"/></a>"
      ]
    },
    {
      "cell_type": "code",
      "execution_count": null,
      "metadata": {
        "id": "AJeAY52PFNP3"
      },
      "outputs": [],
      "source": []
    },
    {
      "cell_type": "markdown",
      "source": [
        "# What is required?\n",
        "## We want to be a basketball team, and what is required is that the player is between 178 cm and 185 cm tall, and the weight is between 75 kilos to 80 kilos.\n",
        "## If the player is less than the required weight and the required height is rejected, and if he meets the conditions, he will be accepted\n",
        "## Write the program in python use if, elif, else.\n"
      ],
      "metadata": {
        "id": "LoDD1mxHaukt"
      }
    },
    {
      "cell_type": "code",
      "source": [
        "tall = float(input(\"Enter your tall in cm: \"))\n",
        "weight = float(input(\"Enter your weight in kg: \"))\n",
        "\n",
        "if tall >= 178 and tall <= 185 and weight >= 75 and weight <= 80:\n",
        "    print(\"You are accepted\")\n",
        "elif tall < 178 or tall > 185 or weight < 75 or weight > 80:\n",
        "        print(\"You are rejected\")\n"
      ],
      "metadata": {
        "colab": {
          "base_uri": "https://localhost:8080/"
        },
        "id": "DD0afbEYehPx",
        "outputId": "f301303c-fd6e-4258-b478-8bf16866552d"
      },
      "execution_count": null,
      "outputs": [
        {
          "output_type": "stream",
          "name": "stdout",
          "text": [
            "Enter your tall in cm: 180.0\n",
            "Enter your weight in kg: 80\n",
            "You are accepted\n"
          ]
        }
      ]
    },
    {
      "cell_type": "markdown",
      "source": [
        "# Program compute the age of the person\n",
        "## **Write a program that calculates the person's age**\n",
        "## **If he is older than 18, it is printed that he is a sane person, and if he is younger than 18, he is printed as a teenager, and if he is equal to 18, he is printed that he is an adult.**"
      ],
      "metadata": {
        "id": "_5AHkfgUgXc2"
      }
    },
    {
      "cell_type": "code",
      "source": [
        "age = int(input(\"Enter your age: \"))\n",
        "\n",
        "if age > 18:\n",
        "    print(\"You are a sane person\")\n",
        "elif age < 18:\n",
        "    print(\"You are a teenager\")\n",
        "elif age == 18:\n",
        "    print(\"You are an adult\")"
      ],
      "metadata": {
        "colab": {
          "base_uri": "https://localhost:8080/"
        },
        "id": "Q3TOeLy5koeB",
        "outputId": "78b7e3a7-fd19-4319-ab74-e04767ac0c5b"
      },
      "execution_count": null,
      "outputs": [
        {
          "output_type": "stream",
          "name": "stdout",
          "text": [
            "Enter your age: 34\n",
            "You are a sane person\n"
          ]
        }
      ]
    },
    {
      "cell_type": "code",
      "source": [
        "score = 0.7\n",
        "percentage = score * 100\n",
        "# Determine letter drade\n",
        "if percentage >= 90:\n",
        "    grade = \"A\"\n",
        "elif percentage >= 80:\n",
        "    grade = \"B\"\n",
        "elif percentage >= 70:\n",
        "    grade = \"C\"\n",
        "elif percentage >= 60:\n",
        "    grade = \"D\"\n",
        "else:\n",
        "    grade = \"F\"\n",
        "# Print the grade\n",
        "print(\"Grade:\", grade)"
      ],
      "metadata": {
        "colab": {
          "base_uri": "https://localhost:8080/"
        },
        "id": "F12eJRk4l8KP",
        "outputId": "c5bb210d-14ac-4e16-e550-14dca7d57f30"
      },
      "execution_count": null,
      "outputs": [
        {
          "output_type": "stream",
          "name": "stdout",
          "text": [
            "Grade: C\n"
          ]
        }
      ]
    },
    {
      "cell_type": "code",
      "source": [],
      "metadata": {
        "id": "i7V_NPK8nTWq"
      },
      "execution_count": null,
      "outputs": []
    },
    {
      "cell_type": "markdown",
      "source": [
        "## Given score of one student and percentage = score * 100.\n",
        "## Can you determine the letter grade for this student and show if he \"pass\" or \"fail\""
      ],
      "metadata": {
        "id": "L_H0wtUCp4pc"
      }
    },
    {
      "cell_type": "code",
      "source": [
        "score = 0.7\n",
        "percentage = score * 100\n",
        "# Determine letter grade\n",
        "if percentage >= 90:\n",
        "    grade = \"A\"\n",
        "elif percentage >= 80:\n",
        "    grade = \"B\"\n",
        "elif percentage >= 70:\n",
        "    grade = \"C\"\n",
        "elif percentage >= 60:\n",
        "    grade = \"D\"\n",
        "else:\n",
        "    grade = \"F\"\n",
        "    # Determine pass or fail\n",
        "if percentage >= 60:\n",
        "        result = \"Pass\"\n",
        "else:\n",
        "        result = \"Fail\"\n",
        "# Print the result\n",
        "print(f\"{result} with {percentage}% (Grade: {grade})\")"
      ],
      "metadata": {
        "colab": {
          "base_uri": "https://localhost:8080/"
        },
        "outputId": "db4a90eb-78f4-4060-9533-980d9eb7c32c",
        "id": "FZLnJmmjnWZ0"
      },
      "execution_count": null,
      "outputs": [
        {
          "output_type": "stream",
          "name": "stdout",
          "text": [
            "Pass with 70.0% (Grade: C)\n"
          ]
        }
      ]
    },
    {
      "cell_type": "markdown",
      "source": [
        "# Checks the number even or odd\n",
        "## Write a program that checks if the number is divisible by 2, print number is even, and if not eccept print the number is odd, then print the number not divisible by 2."
      ],
      "metadata": {
        "id": "P-LyTRhyEd44"
      }
    },
    {
      "cell_type": "code",
      "source": [
        "num = 24\n",
        "if num % 2 == 0:\n",
        "    print(\"Number is even\")\n",
        "elif num % 2 != 0:\n",
        "    print(\"Number is odd\")\n",
        "else:\n",
        "  print(\"Number not divisible by 2\")\n",
        "\n"
      ],
      "metadata": {
        "colab": {
          "base_uri": "https://localhost:8080/"
        },
        "id": "10H-J6mOFlW9",
        "outputId": "8048a0a3-db89-4dda-b155-13616de5cae1"
      },
      "execution_count": 4,
      "outputs": [
        {
          "output_type": "stream",
          "name": "stdout",
          "text": [
            "Number is even\n"
          ]
        }
      ]
    },
    {
      "cell_type": "markdown",
      "source": [
        "## Write a program that calculates someone's body mass if he is given his height. if this size is less than the specified weight, he is thin, and if his weight more than specified weight, he is fat, and if he is equal to the specified weight, it is ideal"
      ],
      "metadata": {
        "id": "dmTBtBc1HKnl"
      }
    },
    {
      "cell_type": "code",
      "source": [
        "weight = float(input(\"Enter your weight in kg: \"))\n",
        "height = float(input(\"Enter your height in m: \"))\n",
        "bmi = weight / (height ** 2)\n",
        "if bmi < 18.5:\n",
        "    print(\"You are underweight\")"
      ],
      "metadata": {
        "colab": {
          "base_uri": "https://localhost:8080/"
        },
        "id": "Re82T-Y7KiE2",
        "outputId": "a248eb8c-ef4d-488e-c0f9-f43a77660a20"
      },
      "execution_count": 6,
      "outputs": [
        {
          "output_type": "stream",
          "name": "stdout",
          "text": [
            "Enter your weight in kg: 80\n",
            "Enter your height in m: 185\n",
            "You are underweight\n"
          ]
        }
      ]
    },
    {
      "cell_type": "code",
      "source": [],
      "metadata": {
        "id": "i5Y4rNGqLV_Y"
      },
      "execution_count": null,
      "outputs": []
    },
    {
      "cell_type": "markdown",
      "source": [],
      "metadata": {
        "id": "i0RHJGwMLnNW"
      }
    },
    {
      "cell_type": "markdown",
      "source": [
        "## Write a program that calculates someone's body mass if he is given his heightand weight, if this size is less than the specified weight, he is thin, and if his weight more than specified weight, he is fat, and if he is equal to the specified weight, it is ideal, you have Approximation weight in the 2 lists\n",
        "**list_weight_kj = [49.5, 52.8, 56.3, 59.8, 63.6, 67.4, 71.3, 75.3, 79.4]**\n",
        "**list_height_m = [1.50, 1.55, 1.60, 1.65, 1.70, 1.75, 1.80, 1.85, 1.90]**"
      ],
      "metadata": {
        "id": "OBRQmtZPLqIa"
      }
    },
    {
      "cell_type": "code",
      "source": [
        "list_weight_kj = [49.5, 52.8, 56.3, 59.8, 63.6, 67.4, 71.3, 75.3, 79.4]\n",
        "list_height_m = [1.50, 1.55, 1.60, 1.65, 1.70, 1.75, 1.80, 1.85, 1.90]\n",
        "weight = float(input(\"Enter your weight in kg: \"))\n",
        "height = float(input(\"Enter your height in m: \"))\n",
        "bmi = weight / (height ** 2)\n",
        "if bmi < list_weight_kj[0]:\n",
        "    print(\"You are underweight\")\n",
        "elif bmi > list_weight_kj[-1]:\n",
        "    print(\"You are overweight\")\n",
        "elif bmi == list_weight_kj[0]:\n",
        "  print(\"You are ideal\")\n",
        "elif bmi == list_weight_kj[-1]:\n",
        "  print(\"You will  prefect\")\n",
        "else:\n",
        "    print(\"You are normal\")\n",
        ""
      ],
      "metadata": {
        "colab": {
          "base_uri": "https://localhost:8080/"
        },
        "id": "KKHuZKaVNbV7",
        "outputId": "701dc843-4a85-4981-9cfa-5d101f43a909"
      },
      "execution_count": 7,
      "outputs": [
        {
          "output_type": "stream",
          "name": "stdout",
          "text": [
            "Enter your weight in kg: 63.6\n",
            "Enter your height in m: 1.70\n",
            "You are underweight\n"
          ]
        }
      ]
    }
  ]
}