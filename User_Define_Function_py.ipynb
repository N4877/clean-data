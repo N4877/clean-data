{
  "cells": [
    {
      "cell_type": "markdown",
      "metadata": {
        "id": "view-in-github",
        "colab_type": "text"
      },
      "source": [
        "<a href=\"https://colab.research.google.com/github/N4877/clean-data/blob/main/User_Define_Function_py.ipynb\" target=\"_parent\"><img src=\"https://colab.research.google.com/assets/colab-badge.svg\" alt=\"Open In Colab\"/></a>"
      ]
    },
    {
      "cell_type": "markdown",
      "id": "c07d10e4-f57b-4770-a94a-ac9ee4a0381c",
      "metadata": {
        "editable": true,
        "tags": [],
        "id": "c07d10e4-f57b-4770-a94a-ac9ee4a0381c"
      },
      "source": [
        "# What is a user define function?\n",
        "## **In python a user define function is block of reusable code.**\n",
        "## **Can define and colled whenever needed.**\n",
        "## **Function help youn to organize your code, make it more modular and void redundency.**"
      ]
    },
    {
      "cell_type": "markdown",
      "id": "e2670011-20e0-42f3-9723-075dea8ec534",
      "metadata": {
        "id": "e2670011-20e0-42f3-9723-075dea8ec534"
      },
      "source": [
        "### **You can define function use def keyword followed by function name and parentheses() In side parentheses you can specify parametar follwed by coln** :"
      ]
    },
    {
      "cell_type": "code",
      "execution_count": null,
      "id": "547121a2-2fb9-40a0-bb2b-accfcae71469",
      "metadata": {
        "id": "547121a2-2fb9-40a0-bb2b-accfcae71469",
        "outputId": "af4f4c28-7ea7-445d-8ff3-c86947e484bf"
      },
      "outputs": [
        {
          "data": {
            "text/plain": [
              "array([2, 4, 6, 8])"
            ]
          },
          "execution_count": 3,
          "metadata": {},
          "output_type": "execute_result"
        }
      ],
      "source": [
        "# This function  without parameter return even number in array\n",
        "import numpy as np\n",
        "def get_even():\n",
        "    even = np.arange(2, 10, 2)\n",
        "    return even\n",
        "get_even()"
      ]
    },
    {
      "cell_type": "code",
      "execution_count": null,
      "id": "9b35f11f-737c-44f8-b307-2134abe102ad",
      "metadata": {
        "id": "9b35f11f-737c-44f8-b307-2134abe102ad",
        "outputId": "3ba67083-2d20-48a6-fbf5-74ed86167a80"
      },
      "outputs": [
        {
          "data": {
            "text/plain": [
              "range(2, 10, 2)"
            ]
          },
          "execution_count": 4,
          "metadata": {},
          "output_type": "execute_result"
        }
      ],
      "source": [
        "# Define funtion without prameters return even number in range\n",
        "def get_even_num():\n",
        "    even = range(2,10 ,2)\n",
        "    return even\n",
        "get_even_num()"
      ]
    },
    {
      "cell_type": "markdown",
      "id": "bb142bcd-cfc6-4015-89f3-f43731f920da",
      "metadata": {
        "editable": true,
        "tags": [],
        "id": "bb142bcd-cfc6-4015-89f3-f43731f920da"
      },
      "source": [
        "# **What is parameter?** **Why we use in function?**\n",
        "## **Parameters are variable that are use in function to allow function to recieve  inout values**.\n",
        "## **When you define the function you specify the parameters into parentheses ().**\n",
        "## **These parameters act as placeholders for the values**.\n",
        "## ** You can passed to the function when it is called**."
      ]
    },
    {
      "cell_type": "code",
      "execution_count": null,
      "id": "ac016cea-274f-43cb-b61b-f909fd591efa",
      "metadata": {
        "id": "ac016cea-274f-43cb-b61b-f909fd591efa",
        "outputId": "76ed9518-0ce8-4182-a210-443fb40e3c54"
      },
      "outputs": [
        {
          "name": "stdout",
          "output_type": "stream",
          "text": [
            "13\n",
            "213 890\n"
          ]
        }
      ],
      "source": [
        "# Define function to add two number.\n",
        "def add_num(x, y):\n",
        "    sum = x + y\n",
        "    return sum\n",
        "result =    add_num(5, 8)\n",
        "print(result)\n",
        "print(213, 890)"
      ]
    },
    {
      "cell_type": "code",
      "execution_count": null,
      "id": "b725cfc5-96d7-4d28-914e-f52d649daf86",
      "metadata": {
        "id": "b725cfc5-96d7-4d28-914e-f52d649daf86",
        "outputId": "2dd6cdeb-ae21-4268-9c10-81bfccdcb845"
      },
      "outputs": [
        {
          "data": {
            "text/plain": [
              "(40, 5.0)"
            ]
          },
          "execution_count": 9,
          "metadata": {},
          "output_type": "execute_result"
        }
      ],
      "source": [
        "# Define function to substract and divided two number\n",
        "def subtract_and_div_num(x,y):\n",
        "    return x-y, x/y\n",
        "\n",
        "subtract_and_div_num(50, 10)\n",
        "subtract_and_div_num(50, 10)\n"
      ]
    },
    {
      "cell_type": "code",
      "execution_count": null,
      "id": "6bc8e980-c5ca-4eae-aec8-71e69162f098",
      "metadata": {
        "id": "6bc8e980-c5ca-4eae-aec8-71e69162f098",
        "outputId": "41f27559-7e6e-438a-cc17-4b3fb29da061"
      },
      "outputs": [
        {
          "data": {
            "text/plain": [
              "1"
            ]
          },
          "execution_count": 18,
          "metadata": {},
          "output_type": "execute_result"
        }
      ],
      "source": [
        "# Define function to return remainder\n",
        "def return_reminder(x):\n",
        "    if x % 2 != 0:\n",
        "        return x % 2\n",
        "    else:\n",
        "        return x\n",
        "return_reminder(61)"
      ]
    },
    {
      "cell_type": "code",
      "execution_count": null,
      "id": "cef22a49-e26a-454a-bbac-615e4682d2f7",
      "metadata": {
        "id": "cef22a49-e26a-454a-bbac-615e4682d2f7",
        "outputId": "05905ec3-5428-43a5-c31b-ec297f64c064"
      },
      "outputs": [
        {
          "data": {
            "text/plain": [
              "(5, 5, 5)"
            ]
          },
          "execution_count": 6,
          "metadata": {},
          "output_type": "execute_result"
        }
      ],
      "source": [
        "# Define function to return reminder\n",
        "def mode2plus5(x1, x2, x3):\n",
        "    newx1 = x1 % 2 + 5\n",
        "    newx2 = x2 % 2 +5\n",
        "    newx3 = x3 % 2 +5\n",
        "    return(newx1, newx2, newx3)\n",
        "    # call function\n",
        "mode2plus5(3, 4, 9)\n",
        "mode2plus5(12, 16, 22)"
      ]
    },
    {
      "cell_type": "markdown",
      "id": "912ece09-a138-433b-8346-e95c055fc4a2",
      "metadata": {
        "id": "912ece09-a138-433b-8346-e95c055fc4a2"
      },
      "source": [
        "# **Docstring**\n",
        "# **Why we use for?**\n",
        "## **Docstring is sort for (Documentation String) is special string use to descibe What fuction methods, what function doing, and what it return**.\n",
        "## **It is inclide in triple quotes(\"\"\" or ''') allowing to span multiple lines .**\n",
        "## **Use for:**\n",
        "## **1- Documentation:**\n",
        "##  **Provide aconvenieny way to documant what what function , classs or module does.**\n",
        "## **2-Readability:**\n",
        "## **Making your code easy to understand for others**.\n",
        "## **3- Developers:**\n",
        "## **Can help developers understand parameters, return values and any otherinformation if they needs to improve your code**."
      ]
    },
    {
      "cell_type": "code",
      "execution_count": null,
      "id": "cac0d603-9c29-4860-8cb4-8db64e8f99a8",
      "metadata": {
        "id": "cac0d603-9c29-4860-8cb4-8db64e8f99a8",
        "outputId": "5c85cbc8-b54e-4385-ee75-99c927c4548e"
      },
      "outputs": [
        {
          "data": {
            "text/plain": [
              "4.5"
            ]
          },
          "execution_count": 7,
          "metadata": {},
          "output_type": "execute_result"
        }
      ],
      "source": [
        "def count_avg(x =[2, 4, 5, 7]):\n",
        "    \"\"\"This function  has list of parameters and returns Average\"\"\"\n",
        "    avg = sum(x)/4\n",
        "    return avg\n",
        "count_avg()\n"
      ]
    },
    {
      "cell_type": "code",
      "execution_count": null,
      "id": "b7044175-1aaf-4b64-891f-5e528f4db62a",
      "metadata": {
        "id": "b7044175-1aaf-4b64-891f-5e528f4db62a"
      },
      "outputs": [],
      "source": []
    },
    {
      "cell_type": "code",
      "execution_count": null,
      "id": "d1e7f831-9fc1-4974-b215-b0ea95c809d4",
      "metadata": {
        "id": "d1e7f831-9fc1-4974-b215-b0ea95c809d4",
        "outputId": "82a06ff4-7eac-4fd6-faf9-5de976ce1dc8"
      },
      "outputs": [
        {
          "data": {
            "text/plain": [
              "16"
            ]
          },
          "execution_count": 8,
          "metadata": {},
          "output_type": "execute_result"
        }
      ],
      "source": [
        "def compute_squar_area(side):\n",
        "    \"\"\"This function take one parameter to return square area\"\"\"\n",
        "    area = 4 * side\n",
        "    return area\n",
        "compute_squar_area(4)\n",
        "\n",
        ""
      ]
    },
    {
      "cell_type": "code",
      "execution_count": null,
      "id": "b8585816-e471-427e-8383-3f3e420d6e97",
      "metadata": {
        "id": "b8585816-e471-427e-8383-3f3e420d6e97",
        "outputId": "e42966a2-f90f-46d4-f6ef-b432e79fa6e1"
      },
      "outputs": [
        {
          "data": {
            "text/plain": [
              "array([ True, False,  True, False,  True, False,  True, False,  True,\n",
              "       False])"
            ]
          },
          "execution_count": 9,
          "metadata": {},
          "output_type": "execute_result"
        }
      ],
      "source": [
        "def get_even_num(x = np.arange(10)):\n",
        "    \"\"\"This function to ckeck if number divided by tow and return boolean values\"\"\"\n",
        "    even_num = x % 2 == 0\n",
        "    return even_num\n",
        "get_even_num()\n"
      ]
    },
    {
      "cell_type": "code",
      "execution_count": null,
      "id": "7680715e-57f7-4851-86a7-51e4b8ba8e62",
      "metadata": {
        "id": "7680715e-57f7-4851-86a7-51e4b8ba8e62",
        "outputId": "438b8f35-ff31-435c-b688-9a40f294bcc8"
      },
      "outputs": [
        {
          "data": {
            "text/plain": [
              "('Mony', 'London', 'Britsh')"
            ]
          },
          "execution_count": 10,
          "metadata": {},
          "output_type": "execute_result"
        }
      ],
      "source": [
        "# Create funtion to get person information\n",
        "def get_info():\n",
        "    '''Funtion to get person information not has parameters'''\n",
        "    name = 'Mony'\n",
        "    city = 'London'\n",
        "    country = 'Britsh'\n",
        "    return(name, city, country)\n",
        "get_info()"
      ]
    },
    {
      "cell_type": "code",
      "execution_count": null,
      "id": "ae67f755-28c6-4d59-a1dc-ad7b65bbf1c1",
      "metadata": {
        "id": "ae67f755-28c6-4d59-a1dc-ad7b65bbf1c1",
        "outputId": "b3fdce50-6b77-4535-a89b-7bebdb7931a7"
      },
      "outputs": [
        {
          "name": "stdout",
          "output_type": "stream",
          "text": [
            " you are teenager\n",
            "out of range\n",
            "None\n",
            "None\n"
          ]
        }
      ],
      "source": [
        "# Define function to check the age\n",
        "def check_age(age):\n",
        "    if age < 20:\n",
        "        print(' you are teenager')\n",
        "        if age > 20:\n",
        "            print('you are old')\n",
        "        else:\n",
        "            print('out of range')\n",
        "\n",
        "print(check_age(13))\n",
        "print(check_age(30))\n"
      ]
    },
    {
      "cell_type": "code",
      "execution_count": null,
      "id": "4a98acf3-bbbf-41c9-9f99-6e6546435404",
      "metadata": {
        "id": "4a98acf3-bbbf-41c9-9f99-6e6546435404",
        "outputId": "5bf773b6-fba5-4254-dab1-bc5d376dc56a"
      },
      "outputs": [
        {
          "name": "stdout",
          "output_type": "stream",
          "text": [
            "This is requierd\n"
          ]
        }
      ],
      "source": [
        "def num_students_in_class(num):\n",
        "    \"\"\"This function check the numbers of student in class\"\"\"\n",
        "    if num > 40:\n",
        "        print('More than the range')\n",
        "    if num <= 20:\n",
        "        print('This is requierd')\n",
        "    else:\n",
        "        print('Need to divided to two class')\n",
        "\n",
        "num_students_in_class(18)"
      ]
    },
    {
      "cell_type": "code",
      "execution_count": null,
      "id": "6670e0a3-a3fb-4355-82c8-0ff347d46070",
      "metadata": {
        "id": "6670e0a3-a3fb-4355-82c8-0ff347d46070",
        "outputId": "0b853b5d-0856-43b9-ce1b-a88e142ce016"
      },
      "outputs": [
        {
          "data": {
            "text/plain": [
              "126.0"
            ]
          },
          "execution_count": 2,
          "metadata": {},
          "output_type": "execute_result"
        }
      ],
      "source": [
        "def traingle_area(base, high):\n",
        "    \"\"\"This function return area of traingle\"\"\"\n",
        "    area = 2.0 * base * high\n",
        "    return area\n",
        "traingle_area(7, 9)\n",
        ""
      ]
    },
    {
      "cell_type": "code",
      "execution_count": null,
      "id": "828b131e-bce8-48ed-a21a-5aa296970afc",
      "metadata": {
        "id": "828b131e-bce8-48ed-a21a-5aa296970afc",
        "outputId": "11827d13-0da0-40bc-847b-3652f04bb112"
      },
      "outputs": [
        {
          "data": {
            "text/plain": [
              "[2, 3, 5, 8, 9]"
            ]
          },
          "execution_count": 25,
          "metadata": {},
          "output_type": "execute_result"
        }
      ],
      "source": [
        "# Funtion to order number\n",
        "def order_num(x = [5, 8, 3, 9, 2]):\n",
        "    order = list(sorted(x))\n",
        "    return order\n",
        "order_num()"
      ]
    },
    {
      "cell_type": "code",
      "execution_count": null,
      "id": "ee29773f-9d22-43ba-b0a3-7387ea684e57",
      "metadata": {
        "id": "ee29773f-9d22-43ba-b0a3-7387ea684e57",
        "outputId": "cd1a566f-c46b-4680-f2d5-569bdc1c35f1"
      },
      "outputs": [
        {
          "name": "stdout",
          "output_type": "stream",
          "text": [
            "10\n"
          ]
        }
      ],
      "source": [
        "num = 5\n",
        "def fun():\n",
        "    global num\n",
        "    num = 10\n",
        "    print(num)\n",
        "fun()"
      ]
    },
    {
      "cell_type": "code",
      "execution_count": null,
      "id": "4d0fd3db-b988-439e-b817-00685a07b9e6",
      "metadata": {
        "id": "4d0fd3db-b988-439e-b817-00685a07b9e6",
        "outputId": "a0df1e75-a3bc-4621-986a-92c677a44809"
      },
      "outputs": [
        {
          "name": "stdout",
          "output_type": "stream",
          "text": [
            "15 5\n"
          ]
        }
      ],
      "source": [
        "num1 = 5\n",
        "num2 =12\n",
        "num3 = 15\n",
        "def new_fun():\n",
        "    global num12\n",
        "    num12 = 10\n",
        "    print(num3, num1)\n",
        "new_fun()\n",
        ""
      ]
    },
    {
      "cell_type": "code",
      "execution_count": null,
      "id": "8f514f76-547c-4626-8310-9f069adc1571",
      "metadata": {
        "id": "8f514f76-547c-4626-8310-9f069adc1571"
      },
      "outputs": [],
      "source": []
    }
  ],
  "metadata": {
    "kernelspec": {
      "display_name": "Python 3 (ipykernel)",
      "language": "python",
      "name": "python3"
    },
    "language_info": {
      "codemirror_mode": {
        "name": "ipython",
        "version": 3
      },
      "file_extension": ".py",
      "mimetype": "text/x-python",
      "name": "python",
      "nbconvert_exporter": "python",
      "pygments_lexer": "ipython3",
      "version": "3.11.5"
    },
    "toc": {
      "base_numbering": 0
    },
    "colab": {
      "provenance": [],
      "include_colab_link": true
    }
  },
  "nbformat": 4,
  "nbformat_minor": 5
}